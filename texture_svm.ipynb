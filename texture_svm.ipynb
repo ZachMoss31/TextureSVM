{
 "cells": [
  {
   "cell_type": "markdown",
   "metadata": {},
   "source": [
    "# Texture Synthesis Preparation: Classification with SVM"
   ]
  },
  {
   "cell_type": "markdown",
   "metadata": {},
   "source": [
    "<h4>Application and analysis of texture classification using SVM against dataset of differing textures, in order to prepare for Neural Network based Texture Synthesis, Procedural Texture generation, and applications of Computer Vision object recognition.</h4>"
   ]
  },
  {
   "cell_type": "markdown",
   "metadata": {},
   "source": [
    "## Problem: Texture Synthesis Requires Pre-Classification"
   ]
  },
  {
   "cell_type": "markdown",
   "metadata": {},
   "source": [
    "<h2>What is Texture Synthesis?</h2>\n",
    "<h4><b><i>Texture Synthesis::</i></b>\n",
    "<br>\n",
    "Texture Synthesis is the process of generating novel textures from samples of existing textures and imagery, while retaining the visual elements of the original. \n",
    "Texture Synthesis can be used to in 2D and 3D image generation applications, such as::</h4>"
   ]
  },
  {
   "cell_type": "markdown",
   "metadata": {},
   "source": [
    "<h5>Extend existing images and textures mathematically such as procedural textures to solve 2D image tiling</h5>\n",
    "<img src =\"img/TextureTiling.png\" alt=\"TextureTiling.png\" width=\"500\" height=\"400\">\n",
    "<br>\n",
    "<i>Blender Guru, \"Blender Texturing for Beginners - Tutorial\"<i>"
   ]
  },
  {
   "cell_type": "markdown",
   "metadata": {},
   "source": [
    "<h5>Move materials from one type of material to another in existing images in Texture Transfer</h5>\n",
    "<img src =\"img/TextureTransfer.png\" alt=\"TextureTransfer.png\" width=\"500\" height=\"400\">\n",
    "<br>\n",
    "<i>University of Illinois, \"Textureshop: Texture Synthesis as as Photograph Editing Tool\"<i>"
   ]
  },
  {
   "cell_type": "markdown",
   "metadata": {},
   "source": [
    "<h5>Shift portions or entirety of textures from one art style to another via Quilting or Image Analogies and Artistic Filters.</h5>\n",
    "<img src =\"img/TextureAImageAnalogy.png\" alt=\"TextureAnalogy.png\" width=\"500\" height=\"400\">\n",
    "<br>\n",
    "<i>University of Washington, \"Texture Synthesis\"<i>"
   ]
  },
  {
   "cell_type": "markdown",
   "metadata": {},
   "source": [
    "<h3><b>And many more applications!</b></h3>\n",
    "<h4>Textures generated via synthesis methods through these approaches are known as Synthetic Textures, and are a precursory method to creating procedural textures in large scale 3D applications.</h4> \n",
    "\n",
    "<h2><b><i>Summary of Goal:: </b></i>Explore the preparation of training classification models on existing textures, in preparation for later Neural Network Synthetic Texture Genesis.</h2>"
   ]
  },
  {
   "cell_type": "markdown",
   "metadata": {},
   "source": [
    "## Exploration of the Image Collection"
   ]
  },
  {
   "cell_type": "markdown",
   "metadata": {},
   "source": [
    "<h4><b><i>Origin of the Textures Dataset::</i></b>\n",
    "<br>\n",
    "This data all came from hand, from me walking about my apartment complex taking photos like a total weirdo - we'll call this scientific process <b>Photogrammetric Loitering</b></h4>\n",
    "<li>Size of the dataset can be represented as varying classes of textures depending on how many models and which kinds are used</li>\n",
    "<li>Dataset comprises 5 directories with 8 images for each type, and one 'other' folder for later testing - it is a mixture of other texture types</li>\n",
    "<li>Data cleaning in this project began in this controlled case by my own picking and deleting unwanted or unused textures by hand prior to training</li>"
   ]
  },
  {
   "cell_type": "markdown",
   "metadata": {},
   "source": [
    "<h4><b><i>Importing and Exploring the Data::</i></b></h4>"
   ]
  },
  {
   "cell_type": "code",
   "execution_count": 9,
   "metadata": {},
   "outputs": [],
   "source": [
    "# Importing the packages\n",
    "import os\n",
    "import zipfile\n",
    "import numpy as np\n",
    "import matplotlib.pyplot as plt\n",
    "import seaborn as sb\n",
    "from PIL import Image, ImageOps\n",
    "from skimage.feature import local_binary_pattern\n",
    "from sklearn import preprocessing, metrics\n",
    "from sklearn.svm import LinearSVC"
   ]
  },
  {
   "cell_type": "markdown",
   "metadata": {},
   "source": [
    "<h4><b><i>Pull the Dataset from .Zip Folder 'Textures'::</i></b></h4>"
   ]
  },
  {
   "cell_type": "code",
   "execution_count": null,
   "metadata": {},
   "outputs": [],
   "source": [
    "zip_file = 'img/grasses.zip'\n",
    "# (?) Should I use my model on grass vs leaves, concrete vs brick, and another one some place?\n",
    "with zipfile.ZipFile(zip_file, 'r') as images:\n",
    "    images.extractall('./')"
   ]
  },
  {
   "cell_type": "markdown",
   "metadata": {},
   "source": [
    "<h4><b><i>Perform data analysis and investigate the data, visualize relationship between classes::</i></b></li>"
   ]
  },
  {
   "cell_type": "markdown",
   "metadata": {},
   "source": [
    "## Preparing the Data For Processing"
   ]
  },
  {
   "cell_type": "markdown",
   "metadata": {},
   "source": [
    "talk about\n",
    "Apply relevant data transformation (i.e., normalization or encoding etc) for the variables\n",
    "- If the dataset is impbalanced, apply techniques such as oversampling and undersampling, SMOTE (synthetic minority over sampling technique) etc"
   ]
  },
  {
   "cell_type": "code",
   "execution_count": null,
   "metadata": {},
   "outputs": [],
   "source": [
    "# Creating Local Binary Patterns for the pixels."
   ]
  },
  {
   "cell_type": "markdown",
   "metadata": {},
   "source": [
    "## Model Building"
   ]
  },
  {
   "cell_type": "markdown",
   "metadata": {},
   "source": [
    "### Jump into the conversation with a number of papers\n",
    "Justify selection of algorithm, and train multiple models (min of 2) and compare their performances\n",
    "Tune some hyperparameters like grid serach, random search, bayesian optimization."
   ]
  },
  {
   "cell_type": "markdown",
   "metadata": {},
   "source": [
    "## Evaluation"
   ]
  },
  {
   "cell_type": "markdown",
   "metadata": {},
   "source": [
    "### Maybe some stuff in Blender or Substance\n",
    "evaluate model performance (accuracy, precision, recall)\n",
    "perform cross-validation and report average performance (across k-fold cross validation or some such)"
   ]
  },
  {
   "cell_type": "markdown",
   "metadata": {},
   "source": [
    "## Conclusions and Next Steps"
   ]
  },
  {
   "cell_type": "markdown",
   "metadata": {},
   "source": [
    "discuss insights drawn from the model, how does it solve the problem i set out on? limitations to the problem (such as not creating the textures yet)\n",
    "\n",
    "<h2>Extensions</h2>\n",
    "<li>Virtual Textures and Virtual Geometry (Unreal Engine Nanite)</li>\n",
    "<li>Synthetic Normal and Parallax Maps</li>\n",
    "<li><a href=\"https://ieeexplore.ieee.org/document/8942651\">Procedural Texture Generation (Tiny Glade)</a></li>\n",
    "<li><a href=\"https://www.a23d.co/texture/syntheticmaterial-0400882\">Synthetic Materials</a></li>\n"
   ]
  },
  {
   "cell_type": "markdown",
   "metadata": {},
   "source": [
    "<h4><i>Sources::<i></h4>\n",
    "<li><a href=\"https://courses.cs.washington.edu/courses/cse455/08wi/lectures/texture.pdf\">University of Washington Texture Lecture</a></li>\n",
    "<li><a href=\"https://graphics.cs.yale.edu/sites/default/files/edge-based_procedural_textures.pdf\">Edge-Based Procedural Textures</a></li>\n",
    "<li><a href=\"https://github.com/anopara\">Anastasia Opara GitHub Research Repo</a></li>\n",
    "<li><a href=\"https://medium.com/@allenaltiner/computer-generated-procedural-3d-and-multi-example-texture-based-synthesis-by-the-super-talented-4d1cfe34b05c\">Texture Synthesis from Example</a></li>\n",
    "<li><a href=\"https://pixel.ecn.purdue.edu:8443/projects/ITRweb/content/publication_related/uiuc/textureshop.pdf\">University of Illinois - Textureshop</a></li>\n",
    "<li><a href=\"https://apmonitor.com/pds/index.php/Main/TextureClassification\">Machine Learning for Engineers - Prof. John D. Hedengren, BYU</a></li>"
   ]
  }
 ],
 "metadata": {
  "kernelspec": {
   "display_name": ".venv",
   "language": "python",
   "name": "python3"
  },
  "language_info": {
   "codemirror_mode": {
    "name": "ipython",
    "version": 3
   },
   "file_extension": ".py",
   "mimetype": "text/x-python",
   "name": "python",
   "nbconvert_exporter": "python",
   "pygments_lexer": "ipython3",
   "version": "3.11.7"
  }
 },
 "nbformat": 4,
 "nbformat_minor": 2
}
