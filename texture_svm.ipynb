{
 "cells": [
  {
   "cell_type": "markdown",
   "metadata": {},
   "source": [
    "# Texture Classification via SVM"
   ]
  },
  {
   "cell_type": "markdown",
   "metadata": {},
   "source": [
    "<h4>Project utilizing Support Vector Machine models to recognize and classify 2D texture images.</h4>\n",
    "<h4>Dataset comprised a repository of hand-collected images prepared for training the model.</h4>"
   ]
  },
  {
   "cell_type": "markdown",
   "metadata": {},
   "source": [
    "## Problem: Texture Tiling in 3D Asset Creation"
   ]
  },
  {
   "cell_type": "markdown",
   "metadata": {},
   "source": [
    "2D Texture Tiling occurs due to repeat images (openGL tiling) that do not fit models exactly.\n",
    "*Image of poorly tiled Blender Wall etc., credit Blender Guru and link his video here.\n",
    "### Preparation for Future Neural Network Procedural Synthetic Texture Genesis (Texture Synthesis)"
   ]
  },
  {
   "cell_type": "markdown",
   "metadata": {},
   "source": [
    "## Exploration of the Image Collection"
   ]
  },
  {
   "cell_type": "markdown",
   "metadata": {},
   "source": [
    "Data came from my own walking about and taking photos like a goober (we'll call this phogrammetric loitery)\n",
    "- Size is 'x' classes of texture and 'n' images of each\n",
    "- Perform data analysis and investigate the data, visualize relationship between classes\n",
    "- Data cleaning\n",
    "### Some Stuff about me taking photos outside"
   ]
  },
  {
   "cell_type": "markdown",
   "metadata": {},
   "source": [
    "## Preparing the Data For Processing"
   ]
  },
  {
   "cell_type": "markdown",
   "metadata": {},
   "source": [
    "talk about\n",
    "Apply relevant data transformation (i.e., normalization or encoding etc) for the variables\n",
    "- If the dataset is impbalanced, apply techniques such as oversampling and undersampling, SMOTE (synthetic minority over sampling technique) etc"
   ]
  },
  {
   "cell_type": "markdown",
   "metadata": {},
   "source": [
    "## Model Building"
   ]
  },
  {
   "cell_type": "markdown",
   "metadata": {},
   "source": [
    "### Jump into the conversation with a number of papers\n",
    "Justify selection of algorithm, and train multiple models (min of 2) and compare their performances\n",
    "Tune some hyperparameters like grid serach, random search, bayesian optimization."
   ]
  },
  {
   "cell_type": "markdown",
   "metadata": {},
   "source": [
    "## Evaluation"
   ]
  },
  {
   "cell_type": "markdown",
   "metadata": {},
   "source": [
    "### Maybe some stuff in Blender or Substance\n",
    "evaluate model performance (accuracy, precision, recall)\n",
    "perform cross-validation and report average performance (across k-fold cross validation or some such)"
   ]
  },
  {
   "cell_type": "markdown",
   "metadata": {},
   "source": [
    "## Conclusions and Next Steps"
   ]
  },
  {
   "cell_type": "markdown",
   "metadata": {},
   "source": [
    "discuss insights drawn from the model, how does it solve the problem i set out on? limitations to the problem (such as not creating the textures yet)"
   ]
  }
 ],
 "metadata": {
  "language_info": {
   "name": "python"
  }
 },
 "nbformat": 4,
 "nbformat_minor": 2
}
